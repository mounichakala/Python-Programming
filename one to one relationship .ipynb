{
 "cells": [
  {
   "cell_type": "code",
   "execution_count": 10,
   "id": "65b13a29-4c68-494a-9619-18ab7f264ffd",
   "metadata": {},
   "outputs": [
    {
     "name": "stdout",
     "output_type": "stream",
     "text": [
      "______________________________\n",
      "employlee details\n",
      "mouni\n",
      "112\n",
      "20000\n",
      "____________________\n",
      "Bank details\n",
      "124245522\n",
      "saving\n",
      "50000\n"
     ]
    }
   ],
   "source": [
    "#one to one relationship EX:Bank\n",
    "class hdfc:\n",
    "    def __init__(self,acno,type,balance):\n",
    "        self.acno=acno\n",
    "        self.type=type\n",
    "        self.balance=balance\n",
    "class employee:\n",
    "    def __init__(self,name,id,salary,bankde):\n",
    "        self.name=name\n",
    "        self.id=id\n",
    "        self.salary=salary\n",
    "        self.bankde=bankde\n",
    "    def detail(self):\n",
    "        print(\"_\"*30)\n",
    "        print(\"employlee details\")\n",
    "        print(self.name)\n",
    "        print(self.id)\n",
    "        print(self.salary)\n",
    "\n",
    "        print(\"_\"*20)\n",
    "        print(\"Bank details\")\n",
    "        print(self.bankde.acno)\n",
    "        print(self.bankde.type)\n",
    "        print(self.bankde.balance)\n",
    "a=hdfc(124245522,'saving',50000)\n",
    "e=employee('mouni',112,20000,a)\n",
    "e.detail()"
   ]
  },
  {
   "cell_type": "code",
   "execution_count": 12,
   "id": "1185b29f-dcd0-4799-a58b-db1f38133315",
   "metadata": {},
   "outputs": [
    {
     "name": "stdout",
     "output_type": "stream",
     "text": [
      "person details\n",
      "adhar: 2354646\n",
      "name: mouni\n",
      "car model: audi\n",
      "car price: 30000\n",
      "car color: black\n"
     ]
    }
   ],
   "source": [
    "#one to one relation EX:person-car\n",
    "class ca:\n",
    "    def __init__(self,model,price,color):\n",
    "        self.model=model\n",
    "        self.price=price\n",
    "        self.color=color\n",
    "class person:\n",
    "    def __init__(self,adhar,name,car):\n",
    "        self.adhar=adhar\n",
    "        self.name=name\n",
    "        self.car=car\n",
    "    def details(self):\n",
    "        print(\"person details\")\n",
    "        print(\"adhar:\",self.adhar)\n",
    "        print(\"name:\",self.name)\n",
    "        print(\"car model:\",self.car.model)\n",
    "        print(\"car price:\",self.car.price)\n",
    "        print(\"car color:\",self.car.color)\n",
    "c=ca('audi',30000,'black')\n",
    "d=person(2354646,'mouni',c)\n",
    "d.details()"
   ]
  },
  {
   "cell_type": "code",
   "execution_count": null,
   "id": "b3f7ec40-567a-4205-8ed1-61b46cb6ba8d",
   "metadata": {},
   "outputs": [],
   "source": []
  }
 ],
 "metadata": {
  "kernelspec": {
   "display_name": "Python 3 (ipykernel)",
   "language": "python",
   "name": "python3"
  },
  "language_info": {
   "codemirror_mode": {
    "name": "ipython",
    "version": 3
   },
   "file_extension": ".py",
   "mimetype": "text/x-python",
   "name": "python",
   "nbconvert_exporter": "python",
   "pygments_lexer": "ipython3",
   "version": "3.12.4"
  }
 },
 "nbformat": 4,
 "nbformat_minor": 5
}
