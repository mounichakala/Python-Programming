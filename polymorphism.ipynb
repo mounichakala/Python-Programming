{
 "cells": [
  {
   "cell_type": "code",
   "execution_count": 1,
   "id": "08b3233b-3ea2-49f4-aa4f-520447c46c4c",
   "metadata": {},
   "outputs": [
    {
     "name": "stdout",
     "output_type": "stream",
     "text": [
      "add: 5\n",
      "__________\n",
      "concatinate happyday\n"
     ]
    }
   ],
   "source": [
    "#polymorphism\n",
    "#add  nunmbers\n",
    "a=2\n",
    "b=3\n",
    "c='happy'\n",
    "d='day'\n",
    "print('add:',a+b)\n",
    "print('_'*10)\n",
    "print(\"concatinate\",c+d)\n",
    "\n"
   ]
  },
  {
   "cell_type": "code",
   "execution_count": 5,
   "id": "20aaf5a5-a861-4bf4-af23-4122a2d3a71f",
   "metadata": {},
   "outputs": [
    {
     "name": "stdout",
     "output_type": "stream",
     "text": [
      "mutiply: 6\n",
      "%%%%%%%%%%\n"
     ]
    }
   ],
   "source": [
    "#polymorphism\n",
    "#mutiplication\n",
    "a=2\n",
    "b=3\n",
    "c='happy'\n",
    "d='day'\n",
    "print('mutiply:',a*b)\n",
    "print('%'*10)\n",
    "\n"
   ]
  },
  {
   "cell_type": "code",
   "execution_count": null,
   "id": "b615e4eb-d6b5-4415-8532-f3b0dc5b031b",
   "metadata": {},
   "outputs": [],
   "source": [
    "#but in classes .. not all times its is possible [we may get error]\n",
    "class p:\n",
    "    def __init__(self,num):\n",
    "        self.num=num\n",
    "\n",
    "a=p(100)\n",
    "b=p(100)\n",
    "print(a+b)#we got error to correct thiswe need to use magic method\n"
   ]
  }
 ],
 "metadata": {
  "kernelspec": {
   "display_name": "Python 3 (ipykernel)",
   "language": "python",
   "name": "python3"
  },
  "language_info": {
   "codemirror_mode": {
    "name": "ipython",
    "version": 3
   },
   "file_extension": ".py",
   "mimetype": "text/x-python",
   "name": "python",
   "nbconvert_exporter": "python",
   "pygments_lexer": "ipython3",
   "version": "3.12.4"
  }
 },
 "nbformat": 4,
 "nbformat_minor": 5
}
