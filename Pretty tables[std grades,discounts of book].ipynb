{
 "cells": [
  {
   "cell_type": "code",
   "execution_count": 13,
   "id": "5f70c7cf-192e-4a4c-afc2-7a66b6be3c70",
   "metadata": {},
   "outputs": [
    {
     "name": "stdin",
     "output_type": "stream",
     "text": [
      "enter the no of stud: 1\n",
      "enter the name mouni\n",
      "enter the marks 34\n"
     ]
    },
    {
     "name": "stdout",
     "output_type": "stream",
     "text": [
      "+-------+-------+--------+\n",
      "|  name | marks | grade  |\n",
      "+-------+-------+--------+\n",
      "| mouni |   34  | falied |\n",
      "+-------+-------+--------+\n"
     ]
    }
   ],
   "source": [
    "#students grades by using pretty table\n",
    "\n",
    "from prettytable import PrettyTable\n",
    "\n",
    "class std:\n",
    "    def __init__(self,name,marks):\n",
    "        self.name=name\n",
    "        self.marks=marks\n",
    "    def na(self):\n",
    "     return self.name\n",
    "    def n(self):\n",
    "        return self.marks\n",
    "    def grade(self):\n",
    "        if self.marks>=80:\n",
    "            return 'A'\n",
    "        elif self.marks>=60:\n",
    "            return 'B'\n",
    "        elif self.marks>=55:\n",
    "            return 'C'\n",
    "\n",
    "        elif self.marks>=35:\n",
    "            return 'D'\n",
    "        else:\n",
    "            return 'falied'\n",
    "\n",
    "n=int(input(\"enter the no of stud:\"))\n",
    "s=[]\n",
    "table=PrettyTable(['name','marks','grade'])\n",
    "for _ in range(n):\n",
    "    name=input(\"enter the name\")\n",
    "    marks=int(input(\"enter the marks\"))\n",
    "    st=std(name,marks)\n",
    "    s.append(st)\n",
    "    cnt=1\n",
    "for t in s:\n",
    "   table.add_row([t.na(),t.n(),t.grade()])\n",
    "print(table)"
   ]
  },
  {
   "cell_type": "code",
   "execution_count": 15,
   "id": "6c387012-e92c-4170-bcfa-e5ac897ff2bc",
   "metadata": {},
   "outputs": [
    {
     "name": "stdin",
     "output_type": "stream",
     "text": [
      "enter no book 2\n",
      "enter name of book loop\n",
      "enter author name alice\n",
      "enter the price: 2300\n",
      "enter name of book c langunage\n",
      "enter author name dennis ritchie\n",
      "enter the price: 3000\n"
     ]
    },
    {
     "name": "stdout",
     "output_type": "stream",
     "text": [
      "+-------+-------------+----------------+--------+------------+\n",
      "| count |     name    |     author     | price  | billamount |\n",
      "+-------+-------------+----------------+--------+------------+\n",
      "|   1   |     loop    |     alice      | 2300.0 |   115.0    |\n",
      "|   2   | c langunage | dennis ritchie | 3000.0 |   150.0    |\n",
      "+-------+-------------+----------------+--------+------------+\n"
     ]
    }
   ],
   "source": [
    "#showing discount of a book in pretty table\n",
    "from prettytable import PrettyTable\n",
    "class book:\n",
    " def __init__(self,name,author,price):\n",
    "  self.name=name\n",
    "  self.author=author\n",
    "  self.price=price\n",
    " def n(self):\n",
    "  return self.name\n",
    " def a(self):\n",
    "  return self.author\n",
    " def p(self):\n",
    "  return self.price\n",
    " def billamount(self):\n",
    "  if self.price > 10000:\n",
    "    d= self.price*0.20\n",
    "    return self.price - d\n",
    "  elif self.price >5000:\n",
    "    d=self.price*0.10\n",
    "    return self.price - d\n",
    "  elif self.price >1000 :\n",
    "    d=self.price * 0.05\n",
    "    return d\n",
    "  else:\n",
    "      discount = self.price * 0.03\n",
    "      return self.price - discount\n",
    "table=PrettyTable(['count','name','author','price','billamount'])\n",
    "n=int(input(\"enter no book\"))\n",
    "g=[]\n",
    "for _ in range(n):\n",
    "   name=input(\"enter name of book\")\n",
    "   author=input(\"enter author name\")\n",
    "   price=float(input(\"enter the price:\"))\n",
    "   f=book(name,author,price)\n",
    "   g.append(f)\n",
    "cnt=1\n",
    "for l in g:\n",
    "    table.add_row([cnt,l.n(),l.a(),l.p(),l.billamount()])\n",
    "    cnt += 1\n",
    "print(table)\n"
   ]
  },
  {
   "cell_type": "code",
   "execution_count": null,
   "id": "8da7a368-9e62-4c75-962a-94e061b58240",
   "metadata": {},
   "outputs": [],
   "source": []
  }
 ],
 "metadata": {
  "kernelspec": {
   "display_name": "Python 3 (ipykernel)",
   "language": "python",
   "name": "python3"
  },
  "language_info": {
   "codemirror_mode": {
    "name": "ipython",
    "version": 3
   },
   "file_extension": ".py",
   "mimetype": "text/x-python",
   "name": "python",
   "nbconvert_exporter": "python",
   "pygments_lexer": "ipython3",
   "version": "3.12.4"
  }
 },
 "nbformat": 4,
 "nbformat_minor": 5
}
