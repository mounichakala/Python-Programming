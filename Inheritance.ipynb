{
 "cells": [
  {
   "cell_type": "code",
   "execution_count": 3,
   "id": "2f560585-02f8-4525-9a02-c215a25c444f",
   "metadata": {},
   "outputs": [
    {
     "name": "stdout",
     "output_type": "stream",
     "text": [
      "name of the game: cricket \n",
      "name of the country: india\n",
      "no of players: 12 \n",
      "dress color: red\n"
     ]
    }
   ],
   "source": [
    "#single inheritance\n",
    "class game:\n",
    "    def g1(self):\n",
    "        self.name='cricket'\n",
    "        self.country='india'\n",
    "        print(\"name of the game:\",self.name,\"\\nname of the country:\",self.country)\n",
    "class cricket(game):\n",
    "    def details(self):\n",
    "        self.noofplayer=12\n",
    "        self.dresscolor='red'\n",
    "        print(\"no of players:\",self.noofplayer,\"\\ndress color:\",self.dresscolor)\n",
    "d=cricket()\n",
    "d.g1()\n",
    "d.details()\n",
    "\n",
    "\n"
   ]
  },
  {
   "cell_type": "code",
   "execution_count": 1,
   "id": "72157de6-5d85-4d8d-a471-d855b96fd0e6",
   "metadata": {},
   "outputs": [
    {
     "name": "stdout",
     "output_type": "stream",
     "text": [
      "id: 12345 \n",
      "name: realnarzo\n",
      "camera: 120 px \n",
      "price: 24000\n"
     ]
    }
   ],
   "source": [
    "# multilevel inheritance\n",
    "class product:\n",
    "    def m1(self):\n",
    "        self.id=12345\n",
    "        self.name='realnarzo'\n",
    "        print(\"id:\" ,self.id ,'\\nname:',self.name)\n",
    "class mobile(product):\n",
    "    def m2(self):\n",
    "        self.made='chinese'\n",
    "        self.brand='realme'\n",
    "        print(\"brand:\",self.brand,\"\\nmade\",self.made)\n",
    "class smartmobile(mobile):\n",
    "    def m3(self):\n",
    "        self.camera='120 px'\n",
    "        self.price=24000\n",
    "        print(\"camera:\",self.camera,\"\\nprice:\",self.price)\n",
    "a=smartmobile()\n",
    "a.m1()\n",
    "a.m3()"
   ]
  },
  {
   "cell_type": "code",
   "execution_count": 1,
   "id": "b03bfb1c-bb90-4e1b-b0ca-3e600ecbaf1a",
   "metadata": {},
   "outputs": [
    {
     "name": "stdout",
     "output_type": "stream",
     "text": [
      "app register feature\n",
      "app login feature \n",
      "app logout feature\n",
      "web application features\n",
      "app register feature\n",
      "app login feature \n",
      "app logout feature\n",
      "mobile application features\n",
      "app register feature\n",
      "app login feature \n",
      "app logout feature\n",
      "desktop application features\n"
     ]
    }
   ],
   "source": [
    "#hierarchical inheritance ex:appplication\n",
    "class app:\n",
    "    def register(self):\n",
    "        print(\"app register feature\")\n",
    "    def login(self):\n",
    "        print(\"app login feature \")\n",
    "    def logout(self):\n",
    "        print(\"app logout feature\")\n",
    "class web(app):\n",
    "    def features(self):\n",
    "        print(\"web application features\")\n",
    "class mobile(app):\n",
    "    def features(self):\n",
    "        print(\"mobile application features\")\n",
    "class desktop(app):\n",
    "    def features(self):\n",
    "        print(\"desktop application features\")\n",
    "w=web()\n",
    "w.register()\n",
    "w.login()\n",
    "w.logout()\n",
    "w.features()\n",
    "b=mobile()\n",
    "b.register()\n",
    "b.login()\n",
    "b.logout()\n",
    "b.features()\n",
    "k=desktop()\n",
    "k.register()\n",
    "k.login()\n",
    "k.logout()\n",
    "k.features()"
   ]
  },
  {
   "cell_type": "code",
   "execution_count": 3,
   "id": "043fb90e-f5b8-4ec7-b586-986845dafeec",
   "metadata": {},
   "outputs": [
    {
     "name": "stdout",
     "output_type": "stream",
     "text": [
      "class1\n",
      "class2\n",
      "claa1,2\n"
     ]
    }
   ],
   "source": [
    "#mutiple inheritance\n",
    "class p:\n",
    "    def h(self):\n",
    "        print(\"class1\")\n",
    "class p1:\n",
    "    def g(self):\n",
    "        print(\"class2\")\n",
    "class c(p,p1):\n",
    "    def n(self):\n",
    "        print(\"claa1,2\")\n",
    "f=c()\n",
    "f.h()\n",
    "f.g()\n",
    "f.n()"
   ]
  },
  {
   "cell_type": "code",
   "execution_count": null,
   "id": "8f4e84eb-e997-4796-abcf-6ef7028d81c8",
   "metadata": {},
   "outputs": [],
   "source": [
    "#hybid inheritance\n"
   ]
  }
 ],
 "metadata": {
  "kernelspec": {
   "display_name": "Python 3 (ipykernel)",
   "language": "python",
   "name": "python3"
  },
  "language_info": {
   "codemirror_mode": {
    "name": "ipython",
    "version": 3
   },
   "file_extension": ".py",
   "mimetype": "text/x-python",
   "name": "python",
   "nbconvert_exporter": "python",
   "pygments_lexer": "ipython3",
   "version": "3.12.4"
  }
 },
 "nbformat": 4,
 "nbformat_minor": 5
}
